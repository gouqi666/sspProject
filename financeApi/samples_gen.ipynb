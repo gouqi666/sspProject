{
 "cells": [
  {
   "cell_type": "code",
   "execution_count": 4,
   "metadata": {},
   "outputs": [],
   "source": [
    "import pandas as pd\n",
    "import numpy as np\n",
    "import json\n",
    "from jqdatasdk import *\n",
    "from jqdatasdk.api import get_fundamentals"
   ]
  },
  {
   "cell_type": "code",
   "execution_count": 5,
   "metadata": {},
   "outputs": [
    {
     "name": "stdout",
     "output_type": "stream",
     "text": [
      "auth success \n"
     ]
    }
   ],
   "source": [
    "auth('13739188902', 'ZNnb20160801')\n",
    "q = query(\n",
    "    valuation\n",
    "    ).filter(\n",
    "    valuation.code == '000001.XSHE'\n",
    "    )\n",
    "df = get_fundamentals(q)"
   ]
  },
  {
   "cell_type": "code",
   "execution_count": 7,
   "metadata": {},
   "outputs": [],
   "source": [
    "a='2018-9-10'\n",
    "b=a.split('-')\n",
    "\n"
   ]
  },
  {
   "cell_type": "code",
   "execution_count": 2,
   "metadata": {},
   "outputs": [],
   "source": [
    "name=pd.read_excel('./name.xlsx')"
   ]
  },
  {
   "cell_type": "code",
   "execution_count": 3,
   "metadata": {},
   "outputs": [],
   "source": [
    "index=name[name['type']=='指数']"
   ]
  },
  {
   "cell_type": "code",
   "execution_count": 4,
   "metadata": {},
   "outputs": [],
   "source": [
    "indexDict={'intent':{'name':'指数走势',\"description\": \"\",\\\n",
    "    \"samples\":[]}}\n",
    "\n",
    "date= ['今天','昨天','最近一个交易日','上周','上月']\n",
    "for n in name['name']:\n",
    "    for d in date:\n",
    "        indexDict['intent']['samples'].append(n+d+'的走势如何')\n",
    "        indexDict['intent']['samples'].append(n+d+'怎么样')\n",
    "        indexDict['intent']['samples'].append(n+d+'的涨跌情况')"
   ]
  },
  {
   "cell_type": "code",
   "execution_count": 5,
   "metadata": {},
   "outputs": [],
   "source": [
    "with open('./index.json',mode='w',encoding='utf-8') as fp:\n",
    "    json.dump(indexDict,fp,ensure_ascii=False)"
   ]
  },
  {
   "cell_type": "code",
   "execution_count": 6,
   "metadata": {},
   "outputs": [],
   "source": [
    "introductionDict={'intent':{'name':'知识介绍',\"description\": \"\",\\\n",
    "    \"samples\":[]}}\n",
    "for n in name['name']:\n",
    "    introductionDict['intent']['samples'].append('帮我介绍一下'+n)\n",
    "    introductionDict['intent']['samples'].append('什么是'+n)\n",
    "    introductionDict['intent']['samples'].append(n+'的具体情况怎么样')\n",
    "with open('./introduction.json',mode='w',encoding='utf-8') as fp:\n",
    "    json.dump(introductionDict,fp,ensure_ascii=False)"
   ]
  },
  {
   "cell_type": "code",
   "execution_count": 19,
   "metadata": {},
   "outputs": [],
   "source": [
    "entityDoct={'entity':{'name':'资产','samples':[],'terms':[{\"type\": \"list\",\n",
    "        \"value\": n,\n",
    "        \"synonyms\": {\n",
    "          \"value\": [] }\n",
    "        } for n in name['name']]\n",
    "        }}"
   ]
  },
  {
   "cell_type": "code",
   "execution_count": 20,
   "metadata": {},
   "outputs": [],
   "source": [
    "with open('./entity.json',mode='w',encoding='utf-8') as fp:\n",
    "    json.dump(entityDoct,fp,ensure_ascii=False)"
   ]
  },
  {
   "cell_type": "code",
   "execution_count": 26,
   "metadata": {},
   "outputs": [],
   "source": [
    "fundDict={'intent':{'name':'基金细节',\"description\": \"\",\\\n",
    "    \"samples\":[]}}\n",
    "fund=name[name['type']=='基金']\n",
    "date= ['最近一周','上月','本月','最近一月','最近一年','今年','成立以来']\n",
    "for n in fund['name']:\n",
    "    for d in date:\n",
    "        fundDict['intent']['samples'].append(n+d+'的最大回撤是多少')\n",
    "        fundDict['intent']['samples'].append(n+d+'的超额收益是多少')\n",
    "        fundDict['intent']['samples'].append(n+d+'的夏普比率是多少')\n",
    "with open('./fund.json',mode='w',encoding='utf-8') as fp:\n",
    "    json.dump(fundDict,fp,ensure_ascii=False)"
   ]
  },
  {
   "cell_type": "code",
   "execution_count": 27,
   "metadata": {},
   "outputs": [],
   "source": [
    "stockDict={'intent':{'name':'股票细节',\"description\": \"\",\\\n",
    "    \"samples\":[]}}\n",
    "date= ['最近一周','最近一月','最近一年']\n",
    "stock=name[name['type']=='股票']\n",
    "for n in stock['name']:\n",
    "    # for d in date:\n",
    "    #     stockDict['intent']['samples'].append(n+d+'的换手率是多少')\n",
    "    #     stockDict['intent']['samples'].append(n+d+'的涨跌幅是多少')\n",
    "    #     stockDict['intent']['samples'].append(n+d+'的成交量是多少')\n",
    "    stockDict['intent']['samples'].append('介绍一下'+n+'的财务指标情况')\n",
    "    stockDict['intent']['samples'].append('介绍一下'+n+'所在行业')\n",
    "    stockDict['intent']['samples'].append('帮我介绍一下'+n+'的财务指标情况')\n",
    "    stockDict['intent']['samples'].append('帮我介绍一下'+n+'所在行业')\n",
    "    stockDict['intent']['samples'].append(n+'的财务指标情况怎么样')\n",
    "    stockDict['intent']['samples'].append(n+'所在行业是什么')\n",
    "with open('./stock.json',mode='w',encoding='utf-8') as fp:\n",
    "    json.dump(stockDict,fp,ensure_ascii=False)"
   ]
  },
  {
   "cell_type": "code",
   "execution_count": 28,
   "metadata": {},
   "outputs": [],
   "source": [
    "sentence=indexDict['intent']['samples']+introductionDict['intent']['samples']+fundDict['intent']['samples']+stockDict['intent']['samples']"
   ]
  },
  {
   "cell_type": "code",
   "execution_count": 31,
   "metadata": {},
   "outputs": [],
   "source": [
    "a=pd.DataFrame(sentence)\n",
    "a.to_csv('sentence.csv',index=False,encoding='utf-8')"
   ]
  },
  {
   "cell_type": "code",
   "execution_count": null,
   "metadata": {},
   "outputs": [],
   "source": []
  }
 ],
 "metadata": {
  "interpreter": {
   "hash": "4ce0e62306dd6a5716965d4519ada776f947e6dfc145b604b11307c10277ef29"
  },
  "kernelspec": {
   "display_name": "Python 3.7.4 64-bit",
   "language": "python",
   "name": "python3"
  },
  "language_info": {
   "codemirror_mode": {
    "name": "ipython",
    "version": 3
   },
   "file_extension": ".py",
   "mimetype": "text/x-python",
   "name": "python",
   "nbconvert_exporter": "python",
   "pygments_lexer": "ipython3",
   "version": "3.7.4"
  },
  "orig_nbformat": 4
 },
 "nbformat": 4,
 "nbformat_minor": 2
}
